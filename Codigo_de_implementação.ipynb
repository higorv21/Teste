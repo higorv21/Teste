{
  "nbformat": 4,
  "nbformat_minor": 0,
  "metadata": {
    "colab": {
      "name": "Codigo de implementação",
      "provenance": []
    },
    "kernelspec": {
      "name": "python3",
      "display_name": "Python 3"
    }
  },
  "cells": [
    {
      "cell_type": "code",
      "metadata": {
        "id": "KxABaj0esava"
      },
      "source": [
        "import googleapiclient.discovery import build\n",
        "from google.oauth2.service_account import Credentials\n",
        "from google.oauth2 import service_account\n",
        "import pandas as pd\n",
        "import numpy as np\n",
        "import matplotlib.pyplot as plt"
      ],
      "execution_count": null,
      "outputs": []
    },
    {
      "cell_type": "code",
      "metadata": {
        "id": "izgVvge_vKem"
      },
      "source": [
        "autenticação = ['https://www.googleapis.com/auth/analytics.readonly']\n",
        "dados = 'Endereço do arquivo.json'\n",
        "usuario_id = \" ***** \"\n",
        "data_inicio = '2020-09-25'\n",
        "data_final = '2020-10-26'"
      ],
      "execution_count": null,
      "outputs": []
    },
    {
      "cell_type": "code",
      "metadata": {
        "id": "8NRfkSmxwEuK"
      },
      "source": [
        "#essa funçao vai validar o login do Analytics e a API liberar o acesso\n",
        "def initialize_analyticsreporting():\n",
        "    credentials = Credentials.from_service_account_file(dados, fonte=FONTE)\n",
        "    analytics = build('analyticsreporting', 'v4', credentials=credentials)\n",
        "    return analytics"
      ],
      "execution_count": null,
      "outputs": []
    },
    {
      "cell_type": "code",
      "metadata": {
        "id": "1IUAB1ilwdwN"
      },
      "source": [
        "#função extrai os dados que queremos seguindo o conceito\n",
        "def get_report_visao_geral(analytics):\n",
        "    return analytics.reports().batchGet(body={'reportRequests': [{\n",
        "        'viewId': VIEW_ID\n",
        "        'dateRanges': [{'startDate': data_inicio, 'endDate': data_final}],\n",
        "        'dimensions': [\n",
        "            {'name': 'ga:date'}\n",
        "        ], \n",
        "          'metrics': [\n",
        "            {'expression': 'ga:totals.pageviews'},\n",
        "            {'expression': 'ga:sessions'},\n",
        "            {'expression': 'ga:totals.timeOnScreen'},\n",
        "            {'expression': 'ga:transactions'},\n",
        "            {'expression': 'ga:device.browser'},\n",
        "        ]  \n",
        "    }]}).execute()"
      ],
      "execution_count": null,
      "outputs": []
    },
    {
      "cell_type": "code",
      "metadata": {
        "id": "Uvksm2_F10IU"
      },
      "source": [
        "def response(response):\n",
        "    report = response.get('reports', [])[0] \n",
        "    header_dimensions = report.get('columnHeader', {}).get('dimensions', [])\n",
        "    header_metrics = [value['name'] for value in report.get('columnHeader', {}).get('metricHeader', {}).get('metricHeaderEntries', [])]\n",
        "    headers = header_dimensions + header_metrics\n",
        "    headers = list(map((lambda x: x.split(':', 1)[-1]), headers))\n",
        "    values = []\n",
        "    rows = report.get('data', {}).get('rows', [])\n",
        "    for row in rows:\n",
        "        values_dimensions = row.get('dimensions', [])\n",
        "        values_metrics = row.get('metrics', [])[0].get('values', [])\n",
        "        values.append(values_dimensions + values_metrics)\n",
        "    df = pd.DataFrame(columns=headers, data=values)\n",
        "    return df"
      ],
      "execution_count": null,
      "outputs": []
    },
    {
      "cell_type": "code",
      "metadata": {
        "id": "3iq1qeN81_De"
      },
      "source": [
        "analytics = initialize_analyticsreporting()\n",
        "response_visao_geral = get_report_visao_geral(analytics)\n",
        "df = response(response_visao_geral)"
      ],
      "execution_count": null,
      "outputs": []
    },
    {
      "cell_type": "code",
      "metadata": {
        "id": "TN0hJhPW8CdR"
      },
      "source": [
        "df.head()"
      ],
      "execution_count": null,
      "outputs": []
    }
  ]
}